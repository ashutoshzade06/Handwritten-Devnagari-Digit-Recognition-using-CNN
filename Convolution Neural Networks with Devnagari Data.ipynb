{
 "cells": [
  {
   "cell_type": "markdown",
   "metadata": {},
   "source": [
    "\n",
    "# Convolution Neural Networks\n",
    "\n",
    "## Machine Learning on Images"
   ]
  },
  {
   "cell_type": "code",
   "execution_count": 1,
   "metadata": {},
   "outputs": [
    {
     "name": "stderr",
     "output_type": "stream",
     "text": [
      "Using TensorFlow backend.\n"
     ]
    }
   ],
   "source": [
    "from numpy.random import seed \n",
    "seed(1) \n",
    "from tensorflow import set_random_seed \n",
    "set_random_seed(2)\n",
    "import keras\n",
    "\n",
    "from keras.models import Sequential\n",
    "from keras.layers import Dense, Dropout, Flatten\n",
    "from keras.layers import Conv2D, MaxPooling2D\n",
    "from keras import backend as K\n",
    "from sklearn.metrics import confusion_matrix\n",
    "from sklearn.metrics import classification_report\n",
    "import numpy as np\n",
    "\n",
    "import matplotlib.pyplot as plt\n",
    "%matplotlib inline"
   ]
  },
  {
   "cell_type": "markdown",
   "metadata": {},
   "source": [
    "# Devnagari Dataset"
   ]
  },
  {
   "cell_type": "code",
   "execution_count": 2,
   "metadata": {
    "collapsed": true,
    "scrolled": true
   },
   "outputs": [],
   "source": [
    "X_train=np.genfromtxt('../data/x_train.csv',delimiter=\",\")\n",
    "y_train=np.genfromtxt('../data/y_train.csv',delimiter=\",\")\n",
    "X_test=np.genfromtxt('../data/x_test.csv',delimiter=\",\")\n",
    "y_test=np.genfromtxt('../data/y_test.csv',delimiter=\",\")\n"
   ]
  },
  {
   "cell_type": "code",
   "execution_count": 3,
   "metadata": {},
   "outputs": [
    {
     "name": "stdout",
     "output_type": "stream",
     "text": [
      "(17000, 1024) (3000, 1024) (17000,) (3000,)\n"
     ]
    }
   ],
   "source": [
    "print(X_train.shape,X_test.shape,y_train.shape,y_test.shape)"
   ]
  },
  {
   "cell_type": "code",
   "execution_count": 4,
   "metadata": {
    "collapsed": true
   },
   "outputs": [],
   "source": [
    "X_train = X_train.reshape(X_train.shape[0], 32,32,1)\n",
    "X_test = X_test.reshape(X_test.shape[0],32,32,1)\n",
    "input_shape = (32,32,1)"
   ]
  },
  {
   "cell_type": "code",
   "execution_count": 5,
   "metadata": {},
   "outputs": [
    {
     "data": {
      "text/plain": [
       "(32, 32, 1)"
      ]
     },
     "execution_count": 5,
     "metadata": {},
     "output_type": "execute_result"
    }
   ],
   "source": [
    "X_train[0].shape"
   ]
  },
  {
   "cell_type": "code",
   "execution_count": 6,
   "metadata": {
    "collapsed": true,
    "scrolled": true
   },
   "outputs": [],
   "source": [
    "X_train=X_train.astype('float32')     ##\n",
    "X_test=X_test.astype('float32')\n",
    "X_train /= 255.0\n",
    "X_test /= 255.0"
   ]
  },
  {
   "cell_type": "code",
   "execution_count": 7,
   "metadata": {
    "collapsed": true
   },
   "outputs": [],
   "source": [
    "from keras.utils.np_utils import to_categorical"
   ]
  },
  {
   "cell_type": "code",
   "execution_count": 8,
   "metadata": {
    "collapsed": true
   },
   "outputs": [],
   "source": [
    "y_train_cat=to_categorical(y_train)\n",
    "y_test_cat=to_categorical(y_test)"
   ]
  },
  {
   "cell_type": "code",
   "execution_count": 9,
   "metadata": {},
   "outputs": [
    {
     "data": {
      "text/plain": [
       "array([ 0.,  0.,  0.,  0.,  1.,  0.,  0.,  0.,  0.,  0.], dtype=float32)"
      ]
     },
     "execution_count": 9,
     "metadata": {},
     "output_type": "execute_result"
    }
   ],
   "source": [
    "y_train_cat[0]"
   ]
  },
  {
   "cell_type": "code",
   "execution_count": 10,
   "metadata": {},
   "outputs": [
    {
     "data": {
      "text/plain": [
       "array([ 0.,  0.,  0.,  0.,  0.,  0.,  0.,  0.,  1.,  0.], dtype=float32)"
      ]
     },
     "execution_count": 10,
     "metadata": {},
     "output_type": "execute_result"
    }
   ],
   "source": [
    "y_train_cat[1]"
   ]
  },
  {
   "cell_type": "code",
   "execution_count": 11,
   "metadata": {},
   "outputs": [
    {
     "data": {
      "text/plain": [
       "(17000, 10)"
      ]
     },
     "execution_count": 11,
     "metadata": {},
     "output_type": "execute_result"
    }
   ],
   "source": [
    "y_train_cat.shape"
   ]
  },
  {
   "cell_type": "markdown",
   "metadata": {},
   "source": [
    "## Fully Connected Model for images"
   ]
  },
  {
   "cell_type": "code",
   "execution_count": 12,
   "metadata": {
    "scrolled": true
   },
   "outputs": [
    {
     "name": "stdout",
     "output_type": "stream",
     "text": [
      "Train on 17000 samples, validate on 3000 samples\n",
      "Epoch 1/20\n",
      "17000/17000 [==============================] - 18s 1ms/step - loss: 0.9425 - acc: 0.8234 - val_loss: 0.1033 - val_acc: 0.9713\n",
      "Epoch 2/20\n",
      "17000/17000 [==============================] - 18s 1ms/step - loss: 0.0616 - acc: 0.9833 - val_loss: 0.0520 - val_acc: 0.9850\n",
      "Epoch 3/20\n",
      "17000/17000 [==============================] - 17s 1ms/step - loss: 0.0191 - acc: 0.9954 - val_loss: 0.0481 - val_acc: 0.9870\n",
      "Epoch 4/20\n",
      "17000/17000 [==============================] - 18s 1ms/step - loss: 0.0056 - acc: 0.9991 - val_loss: 0.0462 - val_acc: 0.9877\n",
      "Epoch 5/20\n",
      "17000/17000 [==============================] - 17s 1ms/step - loss: 0.0020 - acc: 0.9997 - val_loss: 0.0478 - val_acc: 0.9880\n",
      "Epoch 6/20\n",
      "17000/17000 [==============================] - 17s 1ms/step - loss: 7.4556e-04 - acc: 0.9999 - val_loss: 0.0501 - val_acc: 0.9870\n",
      "Epoch 7/20\n",
      "17000/17000 [==============================] - 17s 989us/step - loss: 7.0842e-04 - acc: 0.9999 - val_loss: 0.0517 - val_acc: 0.9900\n",
      "Epoch 8/20\n",
      "17000/17000 [==============================] - 17s 1ms/step - loss: 6.2112e-04 - acc: 0.9998 - val_loss: 0.0489 - val_acc: 0.9880\n",
      "Epoch 9/20\n",
      "17000/17000 [==============================] - 17s 1ms/step - loss: 6.7928e-04 - acc: 0.9999 - val_loss: 0.0499 - val_acc: 0.9887\n",
      "Epoch 10/20\n",
      "17000/17000 [==============================] - 17s 989us/step - loss: 3.8272e-04 - acc: 1.0000 - val_loss: 0.0519 - val_acc: 0.9880\n",
      "Epoch 11/20\n",
      "17000/17000 [==============================] - 17s 991us/step - loss: 1.5099e-04 - acc: 1.0000 - val_loss: 0.0517 - val_acc: 0.9887\n",
      "Epoch 12/20\n",
      "17000/17000 [==============================] - 17s 989us/step - loss: 7.4501e-05 - acc: 1.0000 - val_loss: 0.0523 - val_acc: 0.9887\n",
      "Epoch 13/20\n",
      "17000/17000 [==============================] - 17s 989us/step - loss: 6.1087e-05 - acc: 1.0000 - val_loss: 0.0528 - val_acc: 0.9887\n",
      "Epoch 14/20\n",
      "17000/17000 [==============================] - 17s 991us/step - loss: 5.1879e-05 - acc: 1.0000 - val_loss: 0.0529 - val_acc: 0.9887\n",
      "Epoch 15/20\n",
      "17000/17000 [==============================] - 17s 990us/step - loss: 4.5038e-05 - acc: 1.0000 - val_loss: 0.0534 - val_acc: 0.9887\n",
      "Epoch 16/20\n",
      "17000/17000 [==============================] - 17s 988us/step - loss: 3.9763e-05 - acc: 1.0000 - val_loss: 0.0537 - val_acc: 0.9887\n",
      "Epoch 17/20\n",
      "17000/17000 [==============================] - 17s 989us/step - loss: 3.5511e-05 - acc: 1.0000 - val_loss: 0.0543 - val_acc: 0.9887\n",
      "Epoch 18/20\n",
      "17000/17000 [==============================] - 17s 992us/step - loss: 3.2010e-05 - acc: 1.0000 - val_loss: 0.0545 - val_acc: 0.9883\n",
      "Epoch 19/20\n",
      "17000/17000 [==============================] - 17s 988us/step - loss: 2.9038e-05 - acc: 1.0000 - val_loss: 0.0547 - val_acc: 0.9883\n",
      "Epoch 20/20\n",
      "17000/17000 [==============================] - 17s 993us/step - loss: 2.6568e-05 - acc: 1.0000 - val_loss: 0.0551 - val_acc: 0.9883\n",
      "Train on 17000 samples, validate on 3000 samples\n",
      "Epoch 1/20\n",
      "17000/17000 [==============================] - 17s 1ms/step - loss: 1.0696 - acc: 0.8055 - val_loss: 0.1389 - val_acc: 0.9603\n",
      "Epoch 2/20\n",
      "17000/17000 [==============================] - 16s 945us/step - loss: 0.0899 - acc: 0.9779 - val_loss: 0.0937 - val_acc: 0.9727\n",
      "Epoch 3/20\n",
      "17000/17000 [==============================] - 16s 948us/step - loss: 0.0503 - acc: 0.9879 - val_loss: 0.0581 - val_acc: 0.9850\n",
      "Epoch 4/20\n",
      "17000/17000 [==============================] - 16s 949us/step - loss: 0.0304 - acc: 0.9945 - val_loss: 0.0493 - val_acc: 0.9870\n",
      "Epoch 5/20\n",
      "17000/17000 [==============================] - 16s 947us/step - loss: 0.0203 - acc: 0.9969 - val_loss: 0.0466 - val_acc: 0.9883\n",
      "Epoch 6/20\n",
      "17000/17000 [==============================] - 16s 941us/step - loss: 0.0144 - acc: 0.9985 - val_loss: 0.0419 - val_acc: 0.9873\n",
      "Epoch 7/20\n",
      "17000/17000 [==============================] - 17s 994us/step - loss: 0.0105 - acc: 0.9992 - val_loss: 0.0380 - val_acc: 0.9890\n",
      "Epoch 8/20\n",
      "17000/17000 [==============================] - 16s 933us/step - loss: 0.0079 - acc: 0.9995 - val_loss: 0.0362 - val_acc: 0.9903\n",
      "Epoch 9/20\n",
      "17000/17000 [==============================] - 16s 933us/step - loss: 0.0062 - acc: 0.9998 - val_loss: 0.0362 - val_acc: 0.9890\n",
      "Epoch 10/20\n",
      "17000/17000 [==============================] - 16s 931us/step - loss: 0.0050 - acc: 0.9999 - val_loss: 0.0353 - val_acc: 0.9890\n",
      "Epoch 11/20\n",
      "17000/17000 [==============================] - 16s 939us/step - loss: 0.0042 - acc: 0.9999 - val_loss: 0.0345 - val_acc: 0.9900\n",
      "Epoch 12/20\n",
      "17000/17000 [==============================] - 16s 927us/step - loss: 0.0035 - acc: 0.9999 - val_loss: 0.0335 - val_acc: 0.9900\n",
      "Epoch 13/20\n",
      "17000/17000 [==============================] - 16s 926us/step - loss: 0.0030 - acc: 1.0000 - val_loss: 0.0336 - val_acc: 0.9897\n",
      "Epoch 14/20\n",
      "17000/17000 [==============================] - 16s 930us/step - loss: 0.0026 - acc: 1.0000 - val_loss: 0.0336 - val_acc: 0.9893\n",
      "Epoch 15/20\n",
      "17000/17000 [==============================] - 16s 929us/step - loss: 0.0023 - acc: 1.0000 - val_loss: 0.0335 - val_acc: 0.9900\n",
      "Epoch 16/20\n",
      "17000/17000 [==============================] - 16s 928us/step - loss: 0.0021 - acc: 1.0000 - val_loss: 0.0328 - val_acc: 0.9903\n",
      "Epoch 17/20\n",
      "17000/17000 [==============================] - 16s 927us/step - loss: 0.0019 - acc: 1.0000 - val_loss: 0.0330 - val_acc: 0.9900\n",
      "Epoch 18/20\n",
      "17000/17000 [==============================] - 16s 934us/step - loss: 0.0017 - acc: 1.0000 - val_loss: 0.0330 - val_acc: 0.9900\n",
      "Epoch 19/20\n",
      "17000/17000 [==============================] - 16s 929us/step - loss: 0.0016 - acc: 1.0000 - val_loss: 0.0329 - val_acc: 0.9900\n",
      "Epoch 20/20\n",
      "17000/17000 [==============================] - 16s 931us/step - loss: 0.0014 - acc: 1.0000 - val_loss: 0.0328 - val_acc: 0.9900\n"
     ]
    }
   ],
   "source": [
    "from keras.models import Sequential\n",
    "from keras.layers import Dense\n",
    "import keras.backend as K\n",
    "\n",
    "from keras.optimizers import SGD, Adam\n",
    "from keras.layers import MaxPool2D, AvgPool2D\n",
    "from keras.layers import Flatten, Activation\n",
    "import pandas as pd\n",
    "from keras.optimizers import  Adam, Adagrad\n",
    "\n",
    "dflist=[]\n",
    "optimizers=['Adam(lr=0.01)',\n",
    "           'Adagrad(lr=0.01)',\n",
    "           ]\n",
    "for opt_name in optimizers:\n",
    "    K.clear_session()\n",
    "    model=Sequential()\n",
    "    model.add(Conv2D(32, (3,3), input_shape=input_shape))\n",
    "    model.add(MaxPool2D(pool_size=(1,1)))\n",
    "    model.add(Activation('relu'))\n",
    "    model.add(Flatten())\n",
    "    model.add(Dense(128, activation='relu'))  #fully connected\n",
    "    model.add(Dense(10,activation='softmax'))  #output layer\n",
    "    model.compile(loss='categorical_crossentropy',\n",
    "                  optimizer=eval(opt_name),\n",
    "                  metrics=['accuracy'])\n",
    "    h=model.fit(X_train,y_train_cat, batch_size=500, epochs=20, verbose=1, validation_data=(X_test, y_test_cat))\n",
    "    dflist.append(pd.DataFrame(h.history,index=h.epoch))"
   ]
  },
  {
   "cell_type": "code",
   "execution_count": 13,
   "metadata": {
    "collapsed": true
   },
   "outputs": [],
   "source": [
    "%matplotlib inline\n",
    "import matplotlib.pyplot as plt\n",
    "\n",
    "def plot_images(images, cls_true, cls_pred=None):\n",
    "    assert len(images) == len(cls_true) == 9\n",
    "    \n",
    "    # Create figure with 3x3 sub-plots.\n",
    "    fig, axes = plt.subplots(3, 3)\n",
    "    fig.subplots_adjust(hspace=0.3, wspace=0.3)\n",
    "\n",
    "    for i, ax in enumerate(axes.flat):\n",
    "        # Plot image.\n",
    "        ax.imshow(images[i].reshape(img_shape), cmap='binary')\n",
    "\n",
    "        # Show true and predicted classes.\n",
    "        if cls_pred is None:\n",
    "            xlabel = \"True: {0}\".format(cls_true[i])\n",
    "        else:\n",
    "            xlabel = \"True: {0}, Pred: {1}\".format(cls_true[i], cls_pred[i])\n",
    "\n",
    "        # Show the classes as the label on the x-axis.\n",
    "        ax.set_xlabel(xlabel)\n",
    "        \n",
    "        # Remove ticks from the plot.\n",
    "        ax.set_xticks([])\n",
    "        ax.set_yticks([])\n",
    "    \n",
    "    # Ensure the plot is shown correctly with multiple plots\n",
    "    # in a single Notebook cell.\n",
    "    plt.show()"
   ]
  },
  {
   "cell_type": "code",
   "execution_count": 14,
   "metadata": {
    "collapsed": true
   },
   "outputs": [],
   "source": [
    "# We know that MNIST images are 28 pixels in each dimension.\n",
    "img_size =32\n",
    "\n",
    "# Images are stored in one-dimensional arrays of this length.\n",
    "img_size_flat = img_size * img_size\n",
    "\n",
    "# Tuple with height and width of images used to reshape arrays.\n",
    "img_shape = (img_size, img_size)\n",
    "\n",
    "# Number of colour channels for the images: 1 channel for gray-scale.\n",
    "num_channels = 1"
   ]
  },
  {
   "cell_type": "code",
   "execution_count": 15,
   "metadata": {},
   "outputs": [
    {
     "data": {
      "image/png": "[encoded data removed]",
      "text/plain": [
       "<Figure size 432x288 with 9 Axes>"
      ]
     },
     "metadata": {},
     "output_type": "display_data"
    }
   ],
   "source": [
    "# Get the first images from the test-set.\n",
    "images = X_train[0:9]\n",
    "\n",
    "# Get the true classes for those images.\n",
    "cls_true = y_train[0:9]\n",
    "\n",
    "# Plot the images and labels using our helper-function above.\n",
    "plot_images(images=images, cls_true=cls_true)"
   ]
  },
  {
   "cell_type": "code",
   "execution_count": null,
   "metadata": {
    "collapsed": true,
    "scrolled": true
   },
   "outputs": [],
   "source": [
    "\n"
   ]
  },
  {
   "cell_type": "code",
   "execution_count": 21,
   "metadata": {
    "collapsed": true,
    "scrolled": true
   },
   "outputs": [],
   "source": [
    "predictions = model.predict(X_test)\n"
   ]
  },
  {
   "cell_type": "code",
   "execution_count": 23,
   "metadata": {},
   "outputs": [
    {
     "name": "stdout",
     "output_type": "stream",
     "text": [
      "[7 1 8 ..., 0 6 8]\n"
     ]
    }
   ],
   "source": [
    "y_pred= np.argmax(predictions, axis=-1)   \n",
    "print(y_pred)"
   ]
  },
  {
   "cell_type": "code",
   "execution_count": 24,
   "metadata": {
    "scrolled": true
   },
   "outputs": [
    {
     "name": "stdout",
     "output_type": "stream",
     "text": [
      "EVALUATION ON TESTING DATA\n",
      "             precision    recall  f1-score   support\n",
      "\n",
      "        0.0       1.00      1.00      1.00       300\n",
      "        1.0       1.00      0.99      0.99       300\n",
      "        2.0       0.96      0.98      0.97       300\n",
      "        3.0       0.99      0.98      0.98       300\n",
      "        4.0       0.99      0.99      0.99       300\n",
      "        5.0       0.99      0.98      0.99       300\n",
      "        6.0       0.99      0.99      0.99       300\n",
      "        7.0       0.99      0.99      0.99       300\n",
      "        8.0       0.99      1.00      1.00       300\n",
      "        9.0       1.00      0.99      0.99       300\n",
      "\n",
      "avg / total       0.99      0.99      0.99      3000\n",
      "\n"
     ]
    }
   ],
   "source": [
    "print(\"EVALUATION ON TESTING DATA\")\n",
    "print(classification_report(y_test,y_pred))\n"
   ]
  },
  {
   "cell_type": "code",
   "execution_count": 25,
   "metadata": {
    "scrolled": true
   },
   "outputs": [
    {
     "name": "stdout",
     "output_type": "stream",
     "text": [
      "Confusion matrix\n",
      "[[300   0   0   0   0   0   0   0   0   0]\n",
      " [  0 298   0   0   0   0   1   0   1   0]\n",
      " [  0   1 294   2   1   0   1   1   0   0]\n",
      " [  0   0   6 293   0   0   0   1   0   0]\n",
      " [  0   0   0   0 297   1   1   0   0   1]\n",
      " [  0   0   2   1   2 295   0   0   0   0]\n",
      " [  0   0   1   0   0   0 298   1   0   0]\n",
      " [  0   0   1   0   0   1   0 298   0   0]\n",
      " [  0   0   0   0   0   0   0   0 300   0]\n",
      " [  0   0   1   0   0   0   1   0   1 297]]\n"
     ]
    }
   ],
   "source": [
    "print (\"Confusion matrix\")\n",
    "print(confusion_matrix(y_test,y_pred))"
   ]
  },
  {
   "cell_type": "code",
   "execution_count": 26,
   "metadata": {},
   "outputs": [
    {
     "name": "stdout",
     "output_type": "stream",
     "text": [
      "[ 7.  1.  8. ...,  0.  6.  8.]\n",
      "[7 1 8 ..., 0 6 8]\n"
     ]
    }
   ],
   "source": [
    "print(y_test)\n",
    "print(y_pred)"
   ]
  },
  {
   "cell_type": "code",
   "execution_count": null,
   "metadata": {
    "collapsed": true
   },
   "outputs": [],
   "source": []
  }
 ],
 "metadata": {
  "kernelspec": {
   "display_name": "Python 3",
   "language": "python",
   "name": "python3"
  },
  "language_info": {
   "codemirror_mode": {
    "name": "ipython",
    "version": 3
   },
   "file_extension": ".py",
   "mimetype": "text/x-python",
   "name": "python",
   "nbconvert_exporter": "python",
   "pygments_lexer": "ipython3",
   "version": "3.5.5"
  }
 },
 "nbformat": 4,
 "nbformat_minor": 2
}
