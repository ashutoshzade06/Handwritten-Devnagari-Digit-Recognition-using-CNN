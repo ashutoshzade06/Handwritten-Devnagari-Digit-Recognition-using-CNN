{
 "cells": [
  {
   "cell_type": "code",
   "execution_count": 2,
   "metadata": {},
   "outputs": [
    {
     "name": "stderr",
     "output_type": "stream",
     "text": [
      "Using TensorFlow backend.\n"
     ]
    }
   ],
   "source": [
    "import keras\n",
    "from keras.datasets import mnist\n",
    "from keras.models import Sequential\n",
    "from keras.layers import Dense, Dropout\n",
    "from keras.optimizers import RMSprop\n",
    "import numpy as np\n",
    "from sklearn.metrics import confusion_matrix\n",
    "from sklearn.metrics import classification_report"
   ]
  },
  {
   "cell_type": "code",
   "execution_count": 3,
   "metadata": {
    "collapsed": true
   },
   "outputs": [],
   "source": [
    "batch_size = 128 # Number of Images to send into the network for each pass \n",
    "num_classes = 10 # Total number of classes \n",
    "epochs = 20 # Total number of times the dataset has to be sent through the network"
   ]
  },
  {
   "cell_type": "code",
   "execution_count": 4,
   "metadata": {
    "scrolled": true
   },
   "outputs": [
    {
     "name": "stdout",
     "output_type": "stream",
     "text": [
      "(17000, 1024) (17000,) (3000, 1024) (3000,)\n"
     ]
    }
   ],
   "source": [
    "# the data, shuffled and split between train and test sets. Need Internet connection \n",
    "# when you execute it for the first time in your system\n",
    "\n",
    "x_train = np.genfromtxt('../data/x_train.csv',delimiter=\",\")\n",
    "y_train = np.genfromtxt('../data/y_train.csv',delimiter=\",\")\n",
    "\n",
    "x_test = np.genfromtxt('../data/x_test.csv',delimiter=\",\")\n",
    "y_test = np.genfromtxt('../data/y_test.csv',delimiter=\",\")\n",
    "\n",
    "print(x_train.shape, y_train.shape, x_test.shape, y_test.shape)\n"
   ]
  },
  {
   "cell_type": "code",
   "execution_count": 5,
   "metadata": {},
   "outputs": [
    {
     "data": {
      "text/plain": [
       "array([ 7.,  1.,  8., ...,  0.,  6.,  8.])"
      ]
     },
     "execution_count": 5,
     "metadata": {},
     "output_type": "execute_result"
    }
   ],
   "source": [
    "y_test"
   ]
  },
  {
   "cell_type": "code",
   "execution_count": 6,
   "metadata": {
    "collapsed": true
   },
   "outputs": [],
   "source": [
    "# We know that MNIST images are 28 pixels in each dimension.\n",
    "img_size = 32\n",
    "\n",
    "# Images are stored in one-dimensional arrays of this length.\n",
    "img_size_flat = img_size * img_size\n",
    "\n",
    "# Tuple with height and width of images used to reshape arrays.\n",
    "img_shape = (img_size, img_size)\n",
    "\n",
    "# Number of colour channels for the images: 1 channel for gray-scale.\n",
    "num_channels = 1"
   ]
  },
  {
   "cell_type": "code",
   "execution_count": 7,
   "metadata": {},
   "outputs": [
    {
     "name": "stdout",
     "output_type": "stream",
     "text": [
      "17000 train samples\n",
      "3000 test samples\n"
     ]
    }
   ],
   "source": [
    "x_train = x_train.reshape(17000, img_size_flat) # Flattening the train dataset\n",
    "x_test = x_test.reshape(3000, img_size_flat) # Flattening the test dataset\n",
    "x_train = x_train.astype('float32') # Converting the train data into float\n",
    "x_test = x_test.astype('float32') # Converting the test data into float\n",
    "x_train /= 255.0 # MinMax Scaling the train data\n",
    "x_test /= 255.0 # MinMax scaling the test data\n",
    "print(x_train.shape[0], 'train samples')\n",
    "print(x_test.shape[0], 'test samples')"
   ]
  },
  {
   "cell_type": "code",
   "execution_count": 8,
   "metadata": {},
   "outputs": [
    {
     "name": "stdout",
     "output_type": "stream",
     "text": [
      "[[ 0.  0.  0. ...,  0.  0.  0.]\n",
      " [ 0.  0.  0. ...,  0.  0.  0.]\n",
      " [ 0.  0.  0. ...,  0.  0.  0.]\n",
      " ..., \n",
      " [ 0.  0.  0. ...,  0.  0.  0.]\n",
      " [ 0.  0.  0. ...,  0.  0.  0.]\n",
      " [ 0.  0.  0. ...,  0.  0.  0.]]\n"
     ]
    }
   ],
   "source": [
    "# convert class vectors to binary class matrices - OneHot Encoding\n",
    "y_train_cat = keras.utils.to_categorical(y_train, num_classes)\n",
    "y_test_cat = keras.utils.to_categorical(y_test, num_classes)\n",
    "print(x_test)\n"
   ]
  },
  {
   "cell_type": "code",
   "execution_count": 9,
   "metadata": {
    "collapsed": true
   },
   "outputs": [],
   "source": [
    "model = Sequential()\n",
    "model.add(Dense(512, activation='relu', input_shape=(1024,))) # Input Dense layer\n",
    "model.add(Dropout(0.2)) # Adding Dropout Regularization\n",
    "model.add(Dense(512, activation='relu')) # Hidden Dense Layer \n",
    "model.add(Dropout(0.2)) # Adding Dropout Regularization\n",
    "model.add(Dense(10, activation='softmax')) # Output layer with Softmax activation function"
   ]
  },
  {
   "cell_type": "code",
   "execution_count": 10,
   "metadata": {},
   "outputs": [
    {
     "name": "stdout",
     "output_type": "stream",
     "text": [
      "_________________________________________________________________\n",
      "Layer (type)                 Output Shape              Param #   \n",
      "=================================================================\n",
      "dense_1 (Dense)              (None, 512)               524800    \n",
      "_________________________________________________________________\n",
      "dropout_1 (Dropout)          (None, 512)               0         \n",
      "_________________________________________________________________\n",
      "dense_2 (Dense)              (None, 512)               262656    \n",
      "_________________________________________________________________\n",
      "dropout_2 (Dropout)          (None, 512)               0         \n",
      "_________________________________________________________________\n",
      "dense_3 (Dense)              (None, 10)                5130      \n",
      "=================================================================\n",
      "Total params: 792,586\n",
      "Trainable params: 792,586\n",
      "Non-trainable params: 0\n",
      "_________________________________________________________________\n"
     ]
    }
   ],
   "source": [
    "model.summary()"
   ]
  },
  {
   "cell_type": "code",
   "execution_count": 11,
   "metadata": {
    "collapsed": true
   },
   "outputs": [],
   "source": [
    "# Compile the model \n",
    "model.compile(loss='categorical_crossentropy',\n",
    "              optimizer=RMSprop(),\n",
    "metrics=['accuracy'])"
   ]
  },
  {
   "cell_type": "code",
   "execution_count": 12,
   "metadata": {
    "scrolled": true
   },
   "outputs": [
    {
     "name": "stdout",
     "output_type": "stream",
     "text": [
      "Train on 17000 samples, validate on 3000 samples\n",
      "Epoch 1/20\n",
      "17000/17000 [==============================] - 6s 363us/step - loss: 0.3567 - acc: 0.8822 - val_loss: 0.1045 - val_acc: 0.9707\n",
      "Epoch 2/20\n",
      "17000/17000 [==============================] - 4s 231us/step - loss: 0.0980 - acc: 0.9675 - val_loss: 0.0715 - val_acc: 0.9800\n",
      "Epoch 3/20\n",
      "17000/17000 [==============================] - 4s 230us/step - loss: 0.0587 - acc: 0.9812 - val_loss: 0.0631 - val_acc: 0.9830\n",
      "Epoch 4/20\n",
      "17000/17000 [==============================] - 4s 227us/step - loss: 0.0392 - acc: 0.9871 - val_loss: 0.0848 - val_acc: 0.9780\n",
      "Epoch 5/20\n",
      "17000/17000 [==============================] - 4s 234us/step - loss: 0.0297 - acc: 0.9898 - val_loss: 0.1134 - val_acc: 0.9760\n",
      "Epoch 6/20\n",
      "17000/17000 [==============================] - 4s 236us/step - loss: 0.0228 - acc: 0.9922 - val_loss: 0.0532 - val_acc: 0.9873\n",
      "Epoch 7/20\n",
      "17000/17000 [==============================] - 4s 234us/step - loss: 0.0213 - acc: 0.9939 - val_loss: 0.0700 - val_acc: 0.9877\n",
      "Epoch 8/20\n",
      "17000/17000 [==============================] - 4s 233us/step - loss: 0.0173 - acc: 0.9951 - val_loss: 0.0824 - val_acc: 0.9840\n",
      "Epoch 9/20\n",
      "17000/17000 [==============================] - 4s 235us/step - loss: 0.0146 - acc: 0.9955 - val_loss: 0.0795 - val_acc: 0.9857\n",
      "Epoch 10/20\n",
      "17000/17000 [==============================] - 4s 236us/step - loss: 0.0151 - acc: 0.9962 - val_loss: 0.0713 - val_acc: 0.9883\n",
      "Epoch 11/20\n",
      "17000/17000 [==============================] - 4s 233us/step - loss: 0.0135 - acc: 0.9956 - val_loss: 0.0737 - val_acc: 0.9903\n",
      "Epoch 12/20\n",
      "17000/17000 [==============================] - 4s 243us/step - loss: 0.0121 - acc: 0.9960 - val_loss: 0.0638 - val_acc: 0.9897\n",
      "Epoch 13/20\n",
      "17000/17000 [==============================] - 4s 247us/step - loss: 0.0140 - acc: 0.9962 - val_loss: 0.0703 - val_acc: 0.9897\n",
      "Epoch 14/20\n",
      "17000/17000 [==============================] - 4s 241us/step - loss: 0.0123 - acc: 0.9970 - val_loss: 0.0788 - val_acc: 0.9900\n",
      "Epoch 15/20\n",
      "17000/17000 [==============================] - 4s 249us/step - loss: 0.0096 - acc: 0.9976 - val_loss: 0.0646 - val_acc: 0.9913\n",
      "Epoch 16/20\n",
      "17000/17000 [==============================] - 4s 248us/step - loss: 0.0102 - acc: 0.9979 - val_loss: 0.0800 - val_acc: 0.9903\n",
      "Epoch 17/20\n",
      "17000/17000 [==============================] - 4s 252us/step - loss: 0.0096 - acc: 0.9974 - val_loss: 0.0785 - val_acc: 0.9897\n",
      "Epoch 18/20\n",
      "17000/17000 [==============================] - 4s 240us/step - loss: 0.0090 - acc: 0.9972 - val_loss: 0.0788 - val_acc: 0.9903\n",
      "Epoch 19/20\n",
      "17000/17000 [==============================] - 4s 241us/step - loss: 0.0091 - acc: 0.9981 - val_loss: 0.0788 - val_acc: 0.9897\n",
      "Epoch 20/20\n",
      "17000/17000 [==============================] - ETA: 0s - loss: 0.0058 - acc: 0.998 - 4s 243us/step - loss: 0.0057 - acc: 0.9986 - val_loss: 0.0972 - val_acc: 0.9867\n"
     ]
    }
   ],
   "source": [
    "# Training the model\n",
    "history = model.fit(x_train, y_train_cat,\n",
    "                    batch_size=batch_size,\n",
    "                    epochs=epochs,\n",
    "                    verbose=1,\n",
    "                    validation_data=(x_test, y_test_cat))"
   ]
  },
  {
   "cell_type": "code",
   "execution_count": 13,
   "metadata": {
    "scrolled": true
   },
   "outputs": [
    {
     "name": "stdout",
     "output_type": "stream",
     "text": [
      "Test loss: 0.0972290342728\n",
      "Test accuracy: 0.986666666826\n"
     ]
    }
   ],
   "source": [
    "# Evaluating on testing data \n",
    "score = model.evaluate(x_test, y_test_cat, verbose=0)\n",
    "print('Test loss:', score[0])\n",
    "print('Test accuracy:', score[1])"
   ]
  },
  {
   "cell_type": "code",
   "execution_count": 14,
   "metadata": {
    "collapsed": true
   },
   "outputs": [],
   "source": [
    "predictions = model.predict(x_test)"
   ]
  },
  {
   "cell_type": "code",
   "execution_count": 15,
   "metadata": {},
   "outputs": [
    {
     "name": "stdout",
     "output_type": "stream",
     "text": [
      "[7 1 8 ..., 0 6 8]\n",
      "[ 7.  1.  8. ...,  0.  6.  8.]\n"
     ]
    }
   ],
   "source": [
    "y_pred= np.argmax(predictions, axis=-1)   \n",
    "print(y_pred)\n",
    "print(y_test)"
   ]
  },
  {
   "cell_type": "code",
   "execution_count": 16,
   "metadata": {
    "scrolled": true
   },
   "outputs": [
    {
     "name": "stdout",
     "output_type": "stream",
     "text": [
      "EVALUATION ON TESTING DATA\n",
      "             precision    recall  f1-score   support\n",
      "\n",
      "        0.0       1.00      1.00      1.00       300\n",
      "        1.0       1.00      0.99      0.99       300\n",
      "        2.0       0.99      0.95      0.97       300\n",
      "        3.0       0.95      0.99      0.97       300\n",
      "        4.0       0.99      0.98      0.99       300\n",
      "        5.0       0.98      0.98      0.98       300\n",
      "        6.0       0.98      1.00      0.99       300\n",
      "        7.0       0.99      0.99      0.99       300\n",
      "        8.0       0.99      1.00      1.00       300\n",
      "        9.0       1.00      0.99      0.99       300\n",
      "\n",
      "avg / total       0.99      0.99      0.99      3000\n",
      "\n"
     ]
    }
   ],
   "source": [
    "print(\"EVALUATION ON TESTING DATA\")\n",
    "print(classification_report(y_test,y_pred))"
   ]
  },
  {
   "cell_type": "code",
   "execution_count": 17,
   "metadata": {},
   "outputs": [
    {
     "name": "stdout",
     "output_type": "stream",
     "text": [
      "Confusion matrix\n",
      "[[300   0   0   0   0   0   0   0   0   0]\n",
      " [  0 297   0   0   0   0   2   0   1   0]\n",
      " [  0   0 286  11   1   1   1   0   0   0]\n",
      " [  0   0   2 297   0   1   0   0   0   0]\n",
      " [  0   0   0   0 295   2   2   1   0   0]\n",
      " [  0   0   1   4   0 293   2   0   0   0]\n",
      " [  0   0   0   0   0   0 299   1   0   0]\n",
      " [  1   0   0   0   1   1   0 297   0   0]\n",
      " [  0   0   0   0   0   0   0   0 300   0]\n",
      " [  0   0   1   2   0   0   0   0   1 296]]\n"
     ]
    }
   ],
   "source": [
    "print (\"Confusion matrix\")\n",
    "print(confusion_matrix(y_test,y_pred))"
   ]
  },
  {
   "cell_type": "code",
   "execution_count": null,
   "metadata": {
    "collapsed": true
   },
   "outputs": [],
   "source": []
  }
 ],
 "metadata": {
  "anaconda-cloud": {},
  "kernelspec": {
   "display_name": "Python 3",
   "language": "python",
   "name": "python3"
  },
  "language_info": {
   "codemirror_mode": {
    "name": "ipython",
    "version": 3
   },
   "file_extension": ".py",
   "mimetype": "text/x-python",
   "name": "python",
   "nbconvert_exporter": "python",
   "pygments_lexer": "ipython3",
   "version": "3.5.5"
  }
 },
 "nbformat": 4,
 "nbformat_minor": 1
}
